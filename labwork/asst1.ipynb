{
 "cells": [
  {
   "cell_type": "code",
   "execution_count": 3,
   "metadata": {},
   "outputs": [
    {
     "name": "stdout",
     "output_type": "stream",
     "text": [
      "1\n"
     ]
    }
   ],
   "source": [
    "import tensorflow as f\n",
    "a=2\n",
    "b=3\n",
    "c=f.multiply(a,a)\n",
    "d=f.multiply(b,b)\n",
    "e=f.multiply(a,b)\n",
    "g=f.multiply(2,e)\n",
    "h=f.add(c,d)\n",
    "i=h-g\n",
    "with f.Session() as sess:\n",
    "    writer = f.summary.FileWriter(\"/tmp/tboard/output1\", sess.graph)\n",
    "    print(sess.run(i))\n",
    "    writer.close()\n",
    "\n"
   ]
  },
  {
   "cell_type": "code",
   "execution_count": 5,
   "metadata": {},
   "outputs": [
    {
     "name": "stdout",
     "output_type": "stream",
     "text": [
      "9\n"
     ]
    }
   ],
   "source": [
    "import tensorflow as f1\n",
    "a=2\n",
    "b=3\n",
    "c=4\n",
    "a1=f1.multiply(a,a)\n",
    "b1=f1.multiply(b,b)\n",
    "c1=f1.multiply(c,c)\n",
    "x=f1.multiply(a,b)\n",
    "x1=f1.multiply(2,x)\n",
    "y=f1.multiply(c,a)\n",
    "y1=f1.multiply(2,y)\n",
    "z=f1.multiply(b,c)\n",
    "z1=f1.multiply(2,z)\n",
    "s=a1+b1+c1\n",
    "s1=x1-y1+z1\n",
    "s2=s-s1\n",
    "with f1.Session() as sess:\n",
    "    writer = f1.summary.FileWriter(\"/tmp/tboard/output2\", sess.graph)\n",
    "    print(sess.run(s2))\n",
    "    writer.close()"
   ]
  },
  {
   "cell_type": "code",
   "execution_count": null,
   "metadata": {
    "collapsed": true
   },
   "outputs": [],
   "source": []
  }
 ],
 "metadata": {
  "kernelspec": {
   "display_name": "Python 3",
   "language": "python",
   "name": "python3"
  },
  "language_info": {
   "codemirror_mode": {
    "name": "ipython",
    "version": 3
   },
   "file_extension": ".py",
   "mimetype": "text/x-python",
   "name": "python",
   "nbconvert_exporter": "python",
   "pygments_lexer": "ipython3",
   "version": "3.6.1"
  }
 },
 "nbformat": 4,
 "nbformat_minor": 2
}
