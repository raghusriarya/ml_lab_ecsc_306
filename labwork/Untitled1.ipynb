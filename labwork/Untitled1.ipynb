{
 "cells": [
  {
   "cell_type": "code",
   "execution_count": 1,
   "metadata": {},
   "outputs": [
    {
     "name": "stdout",
     "output_type": "stream",
     "text": [
      "2.75754\n"
     ]
    }
   ],
   "source": [
    "import tensorflow as f\n",
    "x=f.constant([5.5,3.3,5.9,6.9,4.0],shape=[1,5])\n",
    "y=f.constant([4.3,2.2,3.3,5.0,9.0],shape=[1,5])\n",
    "mean_x=f.reduce_mean(x,1)\n",
    "mean_y=f.reduce_mean(y,1)\n",
    "v=f.subtract(x,mean_x)\n",
    "v1=f.square(v)\n",
    "var_x=f.reduce_mean(v1)\n",
    "c1=f.subtract(x,mean_x)\n",
    "c2=f.subtract(y,mean_y)\n",
    "d=f.multiply(c1,c2)\n",
    "cov=f.reduce_mean(d)\n",
    "m=f.divide(cov,var_x)\n",
    "m=f.divide(cov,var_x)\n",
    "p=f.multiply(m,mean_x)\n",
    "c=f.subtract(mean_y,p)\n",
    "rmse=f.sqrt(f.reduce_mean(f.squared_difference(x,y)))\n",
    "with f.Session() as sess:\n",
    "    writer = f.summary.FileWriter(\"/tmp/tboard/output\", sess.graph)\n",
    "    print(sess.run(rmse))\n",
    "    writer.close()"
   ]
  },
  {
   "cell_type": "code",
   "execution_count": null,
   "metadata": {
    "collapsed": true
   },
   "outputs": [],
   "source": []
  }
 ],
 "metadata": {
  "kernelspec": {
   "display_name": "Python 3",
   "language": "python",
   "name": "python3"
  },
  "language_info": {
   "codemirror_mode": {
    "name": "ipython",
    "version": 3
   },
   "file_extension": ".py",
   "mimetype": "text/x-python",
   "name": "python",
   "nbconvert_exporter": "python",
   "pygments_lexer": "ipython3",
   "version": "3.6.1"
  }
 },
 "nbformat": 4,
 "nbformat_minor": 2
}
